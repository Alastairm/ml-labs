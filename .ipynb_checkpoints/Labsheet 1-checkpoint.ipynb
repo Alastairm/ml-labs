{
 "cells": [
  {
   "cell_type": "markdown",
   "metadata": {
    "slideshow": {
     "slide_type": "subslide"
    }
   },
   "source": [
    "Labsheet 1\n",
    "=========\n",
    "\n",
    "### Chapter 1 & 2 Fuckaround"
   ]
  },
  {
   "cell_type": "markdown",
   "metadata": {
    "slideshow": {
     "slide_type": "slide"
    }
   },
   "source": [
    "# Chapter 1\n",
    "TBD"
   ]
  },
  {
   "cell_type": "markdown",
   "metadata": {
    "slideshow": {
     "slide_type": "slide"
    }
   },
   "source": [
    "# Chapter 2\n",
    "\n",
    "Housing Values and stuff\n"
   ]
  },
  {
   "cell_type": "code",
   "execution_count": 35,
   "metadata": {},
   "outputs": [],
   "source": [
    "# We'll just dump all the imports here, they'll all share the same namespace anyway\n",
    "import os\n",
    "import shutil\n",
    "import tarfile\n",
    "import urllib\n",
    "\n",
    "import numpy as np\n",
    "import pandas as pd"
   ]
  },
  {
   "cell_type": "markdown",
   "metadata": {},
   "source": [
    "## Error Measures and Notations\n",
    "\n",
    "$\\textbf{Root Mean Square Error}$ (RMSE, aka Root Mean Square Deviation or RMSD) is a commonly used performance measure for a regression analysis. It measures the standard deviation of the errors made in the system's predictions.\n",
    "\n",
    "$$\\text{RMSE}(\\mathbf{X},h) = \\sqrt{\\frac{1}{m} \\sum_{i=1}^{m} \\Big( h(\\mathbf{x}^i) - y^i \\Big)^2}$$\n",
    "\n",
    "* $m$ Number of instances in the dataset.\n",
    "* $\\textbf{x^i}$ is a vector containgin all the feature values for a given instance.\n",
    "* $\\textbf{X}$ is a matrix containing all the feature values of all instances contained within the dataset.\n",
    "* $y^i$ is the value being predicted by the system (aka the $\\mathit{label}$)\n",
    "\n",
    "* $h$ is the system's prediction function (aka the' $\\mathit{hypothesis}$)"
   ]
  },
  {
   "cell_type": "markdown",
   "metadata": {},
   "source": [
    "## Getting the data"
   ]
  },
  {
   "cell_type": "code",
   "execution_count": 33,
   "metadata": {},
   "outputs": [],
   "source": [
    "# Make this a function because we really only want to run it once\n",
    "URL_ROOT = \"https://raw.githubusercontent.com/ageron/handson-ml/master/\"\n",
    "DIR_NAME = \"datasets/housing/\"\n",
    "\n",
    "def fetch_housing_data():\n",
    "    dir_path = DIR_NAME\n",
    "    if not os.path.isdir(dir_path):\n",
    "        os.makedirs(dir_path)\n",
    "    housing_path = DIR_NAME + \"housing.tgz\"\n",
    "    with open(housing_path, 'wb') as archive_file:\n",
    "        data_url = URL_ROOT + DIR_NAME + \"housing.tgz\"\n",
    "        with urllib.request.urlopen(data_url) as response:\n",
    "            shutil.copyfileobj(response, archive_file)\n",
    "    with tarfile.open(housing_path) as archive_file:\n",
    "        archive_file.extractall(dir_path)\n",
    "\n",
    "def load_housing_data():\n",
    "    csv_path = DIR_NAME + \"housing.csv\"\n",
    "    pd.read_csv()"
   ]
  },
  {
   "cell_type": "code",
   "execution_count": 34,
   "metadata": {},
   "outputs": [],
   "source": [
    "fetch_housing_data()"
   ]
  },
  {
   "cell_type": "code",
   "execution_count": null,
   "metadata": {},
   "outputs": [],
   "source": [
    "# Take a look at the data"
   ]
  },
  {
   "cell_type": "markdown",
   "metadata": {},
   "source": [
    "# Create a Test Set\n",
    "\n",
    "To avoid overfitting the training model it's important not to evaluate a system with the same data that was used to train it. The simplest solution "
   ]
  },
  {
   "cell_type": "code",
   "execution_count": null,
   "metadata": {},
   "outputs": [],
   "source": []
  }
 ],
 "metadata": {
  "kernelspec": {
   "display_name": "Python 3",
   "language": "python",
   "name": "python3"
  },
  "language_info": {
   "codemirror_mode": {
    "name": "ipython",
    "version": 3
   },
   "file_extension": ".py",
   "mimetype": "text/x-python",
   "name": "python",
   "nbconvert_exporter": "python",
   "pygments_lexer": "ipython3",
   "version": "3.6.6"
  }
 },
 "nbformat": 4,
 "nbformat_minor": 2
}
