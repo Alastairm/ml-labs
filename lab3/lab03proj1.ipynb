{
 "cells": [
  {
   "cell_type": "markdown",
   "metadata": {},
   "source": [
    "# <center>CITS5508 Lab sheet 3</center>\n",
    "\n",
    "**Name:** Alastair Mory<br>\n",
    "**Student number:** 21120848<br>\n",
    "\n",
    "\n",
    "A voting classifier consisting of SVM, logistic regression and gradient descent classifiers will be used on a classification task involving cellular localisation site of proteins from E. coli bacteria. The data set was obtained [here](https://archive.ics.uci.edu/ml/datasets/ecoli). The data set file is unlabeled, however a data set [description file](https://archive.ics.uci.edu/ml/machine-learning-databases/ecoli/ecoli.names) lists both the attribute and class label information.\n",
    "\n",
    "\n",
    "<br><b>Contents</b><br>\n",
    "[1 E. Coli Classification Data](#1)<br>\n",
    "&nbsp;&nbsp;&nbsp;&nbsp;[1.1 Data Visualisation and Statistics](#1.1)<br>\n",
    "&nbsp;&nbsp;&nbsp;&nbsp;[1.2 Data Preprocessing](#1.2)<br>\n",
    "[2 Classification](#2)<br>\n",
    "&nbsp;&nbsp;&nbsp;&nbsp;[2.1 Support Vector Machine](#2.1)<br>\n",
    "&nbsp;&nbsp;&nbsp;&nbsp;[2.2 Logistic Regression](#2.2)<br>\n",
    "&nbsp;&nbsp;&nbsp;&nbsp;[2.3 Stochastic Gradient Descent](#2.3)<br>\n",
    "&nbsp;&nbsp;&nbsp;&nbsp;[2.4 Ensemble Voting](#2.4)<br>\n",
    "[3 Conclusion](#3)<br>"
   ]
  },
  {
   "cell_type": "code",
   "execution_count": 1,
   "metadata": {},
   "outputs": [],
   "source": [
    "from typing import Any, List, Tuple\n",
    "\n",
    "import numpy as np\n",
    "import matplotlib.pyplot as plt\n",
    "import pandas as pd\n",
    "from sklearn import ensemble, linear_model, metrics, model_selection, preprocessing, svm\n",
    "\n",
    "\n",
    "# Constants\n",
    "DATA_COLUMNS = ['Sequence Name', 'mcg', 'gvh', 'lip',\n",
    "          'chg', 'aac', 'alm1', 'alm2', 'class']\n",
    "\n",
    "COLUMNS_TO_DROP = ['Sequence Name', 'class']\n",
    "CLASSES_TO_DROP = ['omL', 'imL', 'imS']"
   ]
  },
  {
   "cell_type": "markdown",
   "metadata": {},
   "source": [
    "# 1 E. Coli Classification Data <a name=\"1\">\n",
    "\n",
    "#### Attribute Information:\n",
    "\n",
    "  **Sequence Name:** Accession number for the SWISS-PROT database (removed)<br>\n",
    "  **mcg:** McGeoch's method for signal sequence recognition. <br>\n",
    "  **gvh:** von Heijne's method for signal sequence recognition. <br>\n",
    "  **lip:** von Heijne's Signal Peptidase II consensus sequence score.\n",
    "       Binary attribute. <br>\n",
    "  **chg:** Presence of charge on N-terminus of predicted lipoproteins.\n",
    "\t   Binary attribute. <br>\n",
    "  **aac:** score of discriminant analysis of the amino acid content of\n",
    "\t   outer membrane and periplasmic proteins. <br>\n",
    "  **alm1:** score of the ALOM membrane spanning region prediction program. <br>\n",
    "  **alm2:** score of ALOM program after excluding putative cleavable signal\n",
    "\t   regions from the sequence. <br>\n",
    "       \n",
    "\n",
    "#### Class Distribution (the class is the localisation site):\n",
    "\n",
    "      cp  (cytoplasm)                                    143\n",
    "      im  (inner membrane without signal sequence)        77               \n",
    "      pp  (perisplasm)                                    52\n",
    "      imU (inner membrane, uncleavable signal sequence)   35\n",
    "      om  (outer membrane)                                20\n",
    "      omL (outer membrane lipoprotein)                     5 (removed)\n",
    "      imL (inner membrane lipoprotein)                     2 (removed)\n",
    "      imS (inner membrane, cleavable signal sequence)      2 (removed)\n"
   ]
  },
  {
   "cell_type": "code",
   "execution_count": 2,
   "metadata": {},
   "outputs": [
    {
     "data": {
      "text/html": [
       "<div>\n",
       "<style scoped>\n",
       "    .dataframe tbody tr th:only-of-type {\n",
       "        vertical-align: middle;\n",
       "    }\n",
       "\n",
       "    .dataframe tbody tr th {\n",
       "        vertical-align: top;\n",
       "    }\n",
       "\n",
       "    .dataframe thead th {\n",
       "        text-align: right;\n",
       "    }\n",
       "</style>\n",
       "<table border=\"1\" class=\"dataframe\">\n",
       "  <thead>\n",
       "    <tr style=\"text-align: right;\">\n",
       "      <th></th>\n",
       "      <th>Sequence Name</th>\n",
       "      <th>mcg</th>\n",
       "      <th>gvh</th>\n",
       "      <th>lip</th>\n",
       "      <th>chg</th>\n",
       "      <th>aac</th>\n",
       "      <th>alm1</th>\n",
       "      <th>alm2</th>\n",
       "      <th>class</th>\n",
       "    </tr>\n",
       "  </thead>\n",
       "  <tbody>\n",
       "    <tr>\n",
       "      <th>0</th>\n",
       "      <td>AAT_ECOLI</td>\n",
       "      <td>0.49</td>\n",
       "      <td>0.29</td>\n",
       "      <td>0.48</td>\n",
       "      <td>0.5</td>\n",
       "      <td>0.56</td>\n",
       "      <td>0.24</td>\n",
       "      <td>0.35</td>\n",
       "      <td>cp</td>\n",
       "    </tr>\n",
       "    <tr>\n",
       "      <th>1</th>\n",
       "      <td>ACEA_ECOLI</td>\n",
       "      <td>0.07</td>\n",
       "      <td>0.40</td>\n",
       "      <td>0.48</td>\n",
       "      <td>0.5</td>\n",
       "      <td>0.54</td>\n",
       "      <td>0.35</td>\n",
       "      <td>0.44</td>\n",
       "      <td>cp</td>\n",
       "    </tr>\n",
       "    <tr>\n",
       "      <th>2</th>\n",
       "      <td>ACEK_ECOLI</td>\n",
       "      <td>0.56</td>\n",
       "      <td>0.40</td>\n",
       "      <td>0.48</td>\n",
       "      <td>0.5</td>\n",
       "      <td>0.49</td>\n",
       "      <td>0.37</td>\n",
       "      <td>0.46</td>\n",
       "      <td>cp</td>\n",
       "    </tr>\n",
       "    <tr>\n",
       "      <th>3</th>\n",
       "      <td>ACKA_ECOLI</td>\n",
       "      <td>0.59</td>\n",
       "      <td>0.49</td>\n",
       "      <td>0.48</td>\n",
       "      <td>0.5</td>\n",
       "      <td>0.52</td>\n",
       "      <td>0.45</td>\n",
       "      <td>0.36</td>\n",
       "      <td>cp</td>\n",
       "    </tr>\n",
       "    <tr>\n",
       "      <th>4</th>\n",
       "      <td>ADI_ECOLI</td>\n",
       "      <td>0.23</td>\n",
       "      <td>0.32</td>\n",
       "      <td>0.48</td>\n",
       "      <td>0.5</td>\n",
       "      <td>0.55</td>\n",
       "      <td>0.25</td>\n",
       "      <td>0.35</td>\n",
       "      <td>cp</td>\n",
       "    </tr>\n",
       "  </tbody>\n",
       "</table>\n",
       "</div>"
      ],
      "text/plain": [
       "  Sequence Name   mcg   gvh   lip  chg   aac  alm1  alm2 class\n",
       "0     AAT_ECOLI  0.49  0.29  0.48  0.5  0.56  0.24  0.35    cp\n",
       "1    ACEA_ECOLI  0.07  0.40  0.48  0.5  0.54  0.35  0.44    cp\n",
       "2    ACEK_ECOLI  0.56  0.40  0.48  0.5  0.49  0.37  0.46    cp\n",
       "3    ACKA_ECOLI  0.59  0.49  0.48  0.5  0.52  0.45  0.36    cp\n",
       "4     ADI_ECOLI  0.23  0.32  0.48  0.5  0.55  0.25  0.35    cp"
      ]
     },
     "execution_count": 2,
     "metadata": {},
     "output_type": "execute_result"
    }
   ],
   "source": [
    "# Read data in\n",
    "data = pd.read_csv('./ecoli.data', delim_whitespace=True, names=DATA_COLUMNS)\n",
    "\n",
    "# Display example rows\n",
    "data.head()\n"
   ]
  },
  {
   "cell_type": "markdown",
   "metadata": {},
   "source": [
    "## 1.1 Data Visualisation and Statistics <a name=\"1.1\">"
   ]
  },
  {
   "cell_type": "code",
   "execution_count": 3,
   "metadata": {},
   "outputs": [
    {
     "data": {
      "image/png": "[encoded data removed]",
      "text/plain": [
       "<Figure size 1080x864 with 9 Axes>"
      ]
     },
     "metadata": {
      "needs_background": "light"
     },
     "output_type": "display_data"
    }
   ],
   "source": [
    "# Histogram of numerical features\n",
    "%matplotlib inline\n",
    "data.hist(bins=50, figsize=(15,12))\n",
    "plt.show()"
   ]
  },
  {
   "cell_type": "code",
   "execution_count": 4,
   "metadata": {},
   "outputs": [
    {
     "data": {
      "text/html": [
       "<div>\n",
       "<style scoped>\n",
       "    .dataframe tbody tr th:only-of-type {\n",
       "        vertical-align: middle;\n",
       "    }\n",
       "\n",
       "    .dataframe tbody tr th {\n",
       "        vertical-align: top;\n",
       "    }\n",
       "\n",
       "    .dataframe thead th {\n",
       "        text-align: right;\n",
       "    }\n",
       "</style>\n",
       "<table border=\"1\" class=\"dataframe\">\n",
       "  <thead>\n",
       "    <tr style=\"text-align: right;\">\n",
       "      <th></th>\n",
       "      <th>mcg</th>\n",
       "      <th>gvh</th>\n",
       "      <th>lip</th>\n",
       "      <th>chg</th>\n",
       "      <th>aac</th>\n",
       "      <th>alm1</th>\n",
       "      <th>alm2</th>\n",
       "    </tr>\n",
       "  </thead>\n",
       "  <tbody>\n",
       "    <tr>\n",
       "      <th>count</th>\n",
       "      <td>336.000000</td>\n",
       "      <td>336.000000</td>\n",
       "      <td>336.000000</td>\n",
       "      <td>336.000000</td>\n",
       "      <td>336.000000</td>\n",
       "      <td>336.000000</td>\n",
       "      <td>336.000000</td>\n",
       "    </tr>\n",
       "    <tr>\n",
       "      <th>mean</th>\n",
       "      <td>0.500060</td>\n",
       "      <td>0.500000</td>\n",
       "      <td>0.495476</td>\n",
       "      <td>0.501488</td>\n",
       "      <td>0.500030</td>\n",
       "      <td>0.500179</td>\n",
       "      <td>0.499732</td>\n",
       "    </tr>\n",
       "    <tr>\n",
       "      <th>std</th>\n",
       "      <td>0.194634</td>\n",
       "      <td>0.148157</td>\n",
       "      <td>0.088495</td>\n",
       "      <td>0.027277</td>\n",
       "      <td>0.122376</td>\n",
       "      <td>0.215751</td>\n",
       "      <td>0.209411</td>\n",
       "    </tr>\n",
       "    <tr>\n",
       "      <th>min</th>\n",
       "      <td>0.000000</td>\n",
       "      <td>0.160000</td>\n",
       "      <td>0.480000</td>\n",
       "      <td>0.500000</td>\n",
       "      <td>0.000000</td>\n",
       "      <td>0.030000</td>\n",
       "      <td>0.000000</td>\n",
       "    </tr>\n",
       "    <tr>\n",
       "      <th>25%</th>\n",
       "      <td>0.340000</td>\n",
       "      <td>0.400000</td>\n",
       "      <td>0.480000</td>\n",
       "      <td>0.500000</td>\n",
       "      <td>0.420000</td>\n",
       "      <td>0.330000</td>\n",
       "      <td>0.350000</td>\n",
       "    </tr>\n",
       "    <tr>\n",
       "      <th>50%</th>\n",
       "      <td>0.500000</td>\n",
       "      <td>0.470000</td>\n",
       "      <td>0.480000</td>\n",
       "      <td>0.500000</td>\n",
       "      <td>0.495000</td>\n",
       "      <td>0.455000</td>\n",
       "      <td>0.430000</td>\n",
       "    </tr>\n",
       "    <tr>\n",
       "      <th>75%</th>\n",
       "      <td>0.662500</td>\n",
       "      <td>0.570000</td>\n",
       "      <td>0.480000</td>\n",
       "      <td>0.500000</td>\n",
       "      <td>0.570000</td>\n",
       "      <td>0.710000</td>\n",
       "      <td>0.710000</td>\n",
       "    </tr>\n",
       "    <tr>\n",
       "      <th>max</th>\n",
       "      <td>0.890000</td>\n",
       "      <td>1.000000</td>\n",
       "      <td>1.000000</td>\n",
       "      <td>1.000000</td>\n",
       "      <td>0.880000</td>\n",
       "      <td>1.000000</td>\n",
       "      <td>0.990000</td>\n",
       "    </tr>\n",
       "  </tbody>\n",
       "</table>\n",
       "</div>"
      ],
      "text/plain": [
       "              mcg         gvh         lip         chg         aac        alm1  \\\n",
       "count  336.000000  336.000000  336.000000  336.000000  336.000000  336.000000   \n",
       "mean     0.500060    0.500000    0.495476    0.501488    0.500030    0.500179   \n",
       "std      0.194634    0.148157    0.088495    0.027277    0.122376    0.215751   \n",
       "min      0.000000    0.160000    0.480000    0.500000    0.000000    0.030000   \n",
       "25%      0.340000    0.400000    0.480000    0.500000    0.420000    0.330000   \n",
       "50%      0.500000    0.470000    0.480000    0.500000    0.495000    0.455000   \n",
       "75%      0.662500    0.570000    0.480000    0.500000    0.570000    0.710000   \n",
       "max      0.890000    1.000000    1.000000    1.000000    0.880000    1.000000   \n",
       "\n",
       "             alm2  \n",
       "count  336.000000  \n",
       "mean     0.499732  \n",
       "std      0.209411  \n",
       "min      0.000000  \n",
       "25%      0.350000  \n",
       "50%      0.430000  \n",
       "75%      0.710000  \n",
       "max      0.990000  "
      ]
     },
     "execution_count": 4,
     "metadata": {},
     "output_type": "execute_result"
    }
   ],
   "source": [
    "# Statistics for numerical features\n",
    "data.describe()"
   ]
  },
  {
   "cell_type": "markdown",
   "metadata": {},
   "source": [
    "From the above plots and statistics we can see a variety of distributions, some relatively normal (aac, gvh & mcg), some bimodal (alm1 & alm2), and some binary attributes (chg & lip). Additionally there is one non-numerical attribute ('Sequence Name') that will not be used."
   ]
  },
  {
   "cell_type": "markdown",
   "metadata": {},
   "source": [
    "## 1.2 Data Preprocessing <a name=\"1.2\">\n",
    "\n",
    "Remove unused attributes and datapoints, perform train / test split and normalise data.\n"
   ]
  },
  {
   "cell_type": "code",
   "execution_count": 5,
   "metadata": {},
   "outputs": [],
   "source": [
    "def drop_unused_data(data: pd.DataFrame,\n",
    "               drop_classes: List[str]=CLASSES_TO_DROP,\n",
    "               drop_columns: List[str]=COLUMNS_TO_DROP\n",
    "              ) -> Tuple[pd.DataFrame, pd.Series]:\n",
    "    \"\"\"\n",
    "    Drop rows containing data for classes in drop_classes and remove columns\n",
    "    contained in drop_columns.\n",
    "    Returns a tuple containing (x, y) where x is a dataframe of attributes\n",
    "    excluding the class labels and y is a series of class labels.\n",
    "    \"\"\"\n",
    "    drop_indexes = []\n",
    "    for i in range(len(data)):\n",
    "        if data.loc[i, 'class'] in drop_classes:\n",
    "            drop_indexes.append(i)\n",
    "    data = data.drop(index=drop_indexes)\n",
    "    data.reset_index()\n",
    "    \n",
    "    y = data['class']\n",
    "    x = data.drop(columns=drop_columns)\n",
    "    return x, y\n",
    "\n",
    "\n",
    "# Perform 80/20 train test split\n",
    "train, test = model_selection.train_test_split(data,\n",
    "                                               test_size=0.2,\n",
    "                                               train_size=0.8)\n",
    "train = train.reset_index(drop=True)\n",
    "test = test.reset_index(drop=True)\n",
    "\n",
    "\n",
    "# Remove unused classes & columns\n",
    "train_x, train_y = drop_unused_data(train)\n",
    "test_x, test_y = drop_unused_data(test)\n",
    "\n",
    "\n",
    "# Normalise data\n",
    "scaler = preprocessing.StandardScaler().fit(train_x)\n",
    "train_x = scaler.transform(train_x)\n",
    "test_x = scaler.transform(test_x)\n"
   ]
  },
  {
   "cell_type": "markdown",
   "metadata": {},
   "source": [
    "# 2 Classification <a name=\"2\">"
   ]
  },
  {
   "cell_type": "code",
   "execution_count": 6,
   "metadata": {},
   "outputs": [],
   "source": [
    "def print_metrics(clf: Any,  # pretrained classifier\n",
    "                  test_x: pd.DataFrame, test_y: pd.Series,\n",
    "                  clf_name='Classifier') -> None:\n",
    "    \"\"\"\n",
    "    Run prediction using provided trained classifier and show confusion matrix, accuracy and f1 scores. \n",
    "    \"\"\"\n",
    "    \n",
    "    # Run classifier prediction\n",
    "    pred_y = clf.predict(test_x)\n",
    "    \n",
    "    # Calculate accuracy & F1 score\n",
    "    accuracy = metrics.accuracy_score(test_y, pred_y)\n",
    "    f1 = metrics.f1_score(test_y, pred_y, average='weighted')\n",
    "    # Place in dataframe for prettier printing\n",
    "    scores = pd.DataFrame(data=[[accuracy, f1]],\n",
    "                          index=[\"\"],\n",
    "                          columns=['Accuracy', 'F1 Score'])\n",
    "    \n",
    "    # Display confusion matrix and metric scores\n",
    "    metrics.plot_confusion_matrix(clf, test_x, test_y, \n",
    "                              normalize='true',\n",
    "                              cmap=plt.cm.Blues,)\n",
    "    print(f\"{clf_name} Metrics:\\n\")\n",
    "    print(scores)"
   ]
  },
  {
   "cell_type": "markdown",
   "metadata": {},
   "source": [
    "## 2.1 Support Vector Machine <a name=\"2.1\"/>\n",
    "\n",
    "The support vector classifier was tested with four different kernels (rbf, linear, sigmoid and poly) and linear was found to have the highest accuracy and f1 score for this dataset."
   ]
  },
  {
   "cell_type": "code",
   "execution_count": 7,
   "metadata": {},
   "outputs": [
    {
     "name": "stdout",
     "output_type": "stream",
     "text": [
      "SVM Metrics:\n",
      "\n",
      "  Accuracy  F1 Score\n",
      "  0.880597  0.880157\n"
     ]
    },
    {
     "data": {
      "image/png": "[encoded data removed]",
      "text/plain": [
       "<Figure size 432x288 with 2 Axes>"
      ]
     },
     "metadata": {
      "needs_background": "light"
     },
     "output_type": "display_data"
    }
   ],
   "source": [
    "clf_svm = svm.SVC(kernel='linear').fit(train_x, train_y)\n",
    "\n",
    "print_metrics(clf_svm, test_x, test_y, 'SVM')"
   ]
  },
  {
   "cell_type": "markdown",
   "metadata": {},
   "source": [
    "## 2.2 Logistic Regression <a name=\"2.2\">\n",
    "    \n",
    "For this logistic regression classifier, the maximum iterations needed to be increased significantly (from default max_iter=100 to max_iter=1000) in order to allow it to converge on an appriopriate classification model."
   ]
  },
  {
   "cell_type": "code",
   "execution_count": 8,
   "metadata": {},
   "outputs": [
    {
     "name": "stdout",
     "output_type": "stream",
     "text": [
      "Logistic Regression Metrics:\n",
      "\n",
      "  Accuracy  F1 Score\n",
      "  0.865672  0.863236\n"
     ]
    },
    {
     "data": {
      "image/png": "[encoded data removed]",
      "text/plain": [
       "<Figure size 432x288 with 2 Axes>"
      ]
     },
     "metadata": {
      "needs_background": "light"
     },
     "output_type": "display_data"
    }
   ],
   "source": [
    "clf_lr = linear_model.LogisticRegressionCV(solver='lbfgs', max_iter=1000).fit(train_x, train_y)\n",
    "\n",
    "print_metrics(clf_lr, test_x, test_y, 'Logistic Regression')"
   ]
  },
  {
   "cell_type": "markdown",
   "metadata": {},
   "source": [
    "## 2.3 Stochastic Gradient Descent <a name=\"2.3\">\n",
    "\n",
    "This stochastic gradient descent classifier achieves an accuracy and f1 score in the 80-90% range, this variation is due to the random nature of training this kind of classifier."
   ]
  },
  {
   "cell_type": "code",
   "execution_count": 9,
   "metadata": {},
   "outputs": [
    {
     "name": "stdout",
     "output_type": "stream",
     "text": [
      "SGD Metrics:\n",
      "\n",
      "  Accuracy  F1 Score\n",
      "   0.80597   0.79807\n"
     ]
    },
    {
     "data": {
      "image/png": "[encoded data removed]",
      "text/plain": [
       "<Figure size 432x288 with 2 Axes>"
      ]
     },
     "metadata": {
      "needs_background": "light"
     },
     "output_type": "display_data"
    }
   ],
   "source": [
    "clf_sgd = linear_model.SGDClassifier(loss='hinge').fit(train_x, train_y)\n",
    "\n",
    "print_metrics(clf_sgd, test_x, test_y, 'SGD')"
   ]
  },
  {
   "cell_type": "markdown",
   "metadata": {},
   "source": [
    "## 2.4 Ensemble Voting <a name=\"2.4\"/>\n",
    "\n",
    "The ensemble classifier consists of multiple classifiers that 'vote' on the correct class, ultimately selecting the class that is chosen by a preponderance of its constituent classifiers."
   ]
  },
  {
   "cell_type": "code",
   "execution_count": 10,
   "metadata": {
    "scrolled": true
   },
   "outputs": [
    {
     "name": "stdout",
     "output_type": "stream",
     "text": [
      "Voting Metrics:\n",
      "\n",
      "  Accuracy  F1 Score\n",
      "  0.865672  0.863236\n"
     ]
    },
    {
     "data": {
      "image/png": "[encoded data removed]",
      "text/plain": [
       "<Figure size 432x288 with 2 Axes>"
      ]
     },
     "metadata": {
      "needs_background": "light"
     },
     "output_type": "display_data"
    }
   ],
   "source": [
    "classifiers = [('svm', clf_svm), ('lr', clf_lr), ('sgd', clf_sgd)]\n",
    "clf_voting = ensemble.VotingClassifier(classifiers).fit(train_x, train_y)\n",
    "\n",
    "print_metrics(clf_voting, test_x, test_y, 'Voting')"
   ]
  },
  {
   "cell_type": "markdown",
   "metadata": {},
   "source": [
    "# 3 Conclusion <a name=\"3\"/>\n",
    "\n",
    " In this case the support vector and logistic regression classifiers had very close results (generally classifying only 1-2 datapoints differently), so the ensemble voting classifier performed almost identically to them (as with 2/3 classifiers agreeing in almost every case, the SGD classifier's results were largely irrelevant).\n",
    " \n",
    " It should be noted that 3 constituent classifiers (estimators) is the bare minimum for a useful voting classifier (when using 'hard' voting), as such it would be worth investigating voting classifiers with more estimators (either more different kinds of classifiers, or classifiers of the same type with different hyperparameters) and trying soft voting (where class probabilities are used instead of a majority vote).\n",
    "    "
   ]
  }
 ],
 "metadata": {
  "kernelspec": {
   "display_name": "Python 3",
   "language": "python",
   "name": "python3"
  },
  "language_info": {
   "codemirror_mode": {
    "name": "ipython",
    "version": 3
   },
   "file_extension": ".py",
   "mimetype": "text/x-python",
   "name": "python",
   "nbconvert_exporter": "python",
   "pygments_lexer": "ipython3",
   "version": "3.7.5"
  }
 },
 "nbformat": 4,
 "nbformat_minor": 4
}
