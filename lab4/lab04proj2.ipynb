{
 "cells": [
  {
   "cell_type": "markdown",
   "metadata": {},
   "source": [
    "# <center>CITS5508 Lab sheet 4 Project 2</center>\n",
    "\n",
    "**Name:** Alastair Mory<br>\n",
    "**Student number:** 21120848<br>\n",
    "\n",
    "\n",
    "<br><b>Contents</b><br>\n",
    "[1 Data Reading, Visualisation and Statistics](#1)<br>\n",
    "\n",
    "[2 Train test split](#2)<br>\n",
    "\n",
    "[3 3 Random forrest regressor](#3)<br>\n",
    "&nbsp;&nbsp;&nbsp;&nbsp;[Grid Search](#3.1)<br>\n",
    "&nbsp;&nbsp;&nbsp;&nbsp;[Regressor fitting and predicting](#3.2)<br>\n",
    "&nbsp;&nbsp;&nbsp;&nbsp;[Raw error histograms](#3.3)<br>\n",
    "\n",
    "[4 Feature importance trimming](#4)<br>\n",
    "\n",
    "[5 Conclusion and discussion](#5)<br>\n"
   ]
  },
  {
   "cell_type": "code",
   "execution_count": 1,
   "metadata": {},
   "outputs": [],
   "source": [
    "from typing import Any\n",
    "\n",
    "from IPython.display import display, HTML\n",
    "\n",
    "import numpy as np\n",
    "import matplotlib.pyplot as plt\n",
    "import pandas as pd\n",
    "\n",
    "from sklearn.ensemble import RandomForestRegressor\n",
    "from sklearn.metrics import mean_squared_error\n",
    "from sklearn.model_selection import GridSearchCV, PredefinedSplit, train_test_split\n"
   ]
  },
  {
   "cell_type": "markdown",
   "metadata": {},
   "source": [
    "# Data reading, visualisation and statistics<a name=\"1\">"
   ]
  },
  {
   "cell_type": "code",
   "execution_count": 2,
   "metadata": {},
   "outputs": [
    {
     "data": {
      "text/html": [
       "<div>\n",
       "<style scoped>\n",
       "    .dataframe tbody tr th:only-of-type {\n",
       "        vertical-align: middle;\n",
       "    }\n",
       "\n",
       "    .dataframe tbody tr th {\n",
       "        vertical-align: top;\n",
       "    }\n",
       "\n",
       "    .dataframe thead th {\n",
       "        text-align: right;\n",
       "    }\n",
       "</style>\n",
       "<table border=\"1\" class=\"dataframe\">\n",
       "  <thead>\n",
       "    <tr style=\"text-align: right;\">\n",
       "      <th></th>\n",
       "      <th>Sex</th>\n",
       "      <th>Length</th>\n",
       "      <th>Diameter</th>\n",
       "      <th>Height</th>\n",
       "      <th>Whole weight</th>\n",
       "      <th>Shucked weight</th>\n",
       "      <th>Viscera weight</th>\n",
       "      <th>Shell weight</th>\n",
       "      <th>Rings</th>\n",
       "    </tr>\n",
       "  </thead>\n",
       "  <tbody>\n",
       "    <tr>\n",
       "      <th>0</th>\n",
       "      <td>M</td>\n",
       "      <td>0.455</td>\n",
       "      <td>0.365</td>\n",
       "      <td>0.095</td>\n",
       "      <td>0.5140</td>\n",
       "      <td>0.2245</td>\n",
       "      <td>0.1010</td>\n",
       "      <td>0.150</td>\n",
       "      <td>15</td>\n",
       "    </tr>\n",
       "    <tr>\n",
       "      <th>1</th>\n",
       "      <td>M</td>\n",
       "      <td>0.350</td>\n",
       "      <td>0.265</td>\n",
       "      <td>0.090</td>\n",
       "      <td>0.2255</td>\n",
       "      <td>0.0995</td>\n",
       "      <td>0.0485</td>\n",
       "      <td>0.070</td>\n",
       "      <td>7</td>\n",
       "    </tr>\n",
       "    <tr>\n",
       "      <th>2</th>\n",
       "      <td>F</td>\n",
       "      <td>0.530</td>\n",
       "      <td>0.420</td>\n",
       "      <td>0.135</td>\n",
       "      <td>0.6770</td>\n",
       "      <td>0.2565</td>\n",
       "      <td>0.1415</td>\n",
       "      <td>0.210</td>\n",
       "      <td>9</td>\n",
       "    </tr>\n",
       "    <tr>\n",
       "      <th>3</th>\n",
       "      <td>M</td>\n",
       "      <td>0.440</td>\n",
       "      <td>0.365</td>\n",
       "      <td>0.125</td>\n",
       "      <td>0.5160</td>\n",
       "      <td>0.2155</td>\n",
       "      <td>0.1140</td>\n",
       "      <td>0.155</td>\n",
       "      <td>10</td>\n",
       "    </tr>\n",
       "    <tr>\n",
       "      <th>4</th>\n",
       "      <td>I</td>\n",
       "      <td>0.330</td>\n",
       "      <td>0.255</td>\n",
       "      <td>0.080</td>\n",
       "      <td>0.2050</td>\n",
       "      <td>0.0895</td>\n",
       "      <td>0.0395</td>\n",
       "      <td>0.055</td>\n",
       "      <td>7</td>\n",
       "    </tr>\n",
       "  </tbody>\n",
       "</table>\n",
       "</div>"
      ],
      "text/plain": [
       "  Sex  Length  Diameter  Height  Whole weight  Shucked weight  Viscera weight  \\\n",
       "0   M   0.455     0.365   0.095        0.5140          0.2245          0.1010   \n",
       "1   M   0.350     0.265   0.090        0.2255          0.0995          0.0485   \n",
       "2   F   0.530     0.420   0.135        0.6770          0.2565          0.1415   \n",
       "3   M   0.440     0.365   0.125        0.5160          0.2155          0.1140   \n",
       "4   I   0.330     0.255   0.080        0.2050          0.0895          0.0395   \n",
       "\n",
       "   Shell weight  Rings  \n",
       "0         0.150     15  \n",
       "1         0.070      7  \n",
       "2         0.210      9  \n",
       "3         0.155     10  \n",
       "4         0.055      7  "
      ]
     },
     "execution_count": 2,
     "metadata": {},
     "output_type": "execute_result"
    }
   ],
   "source": [
    "attribute_names = [\n",
    "    'Sex',\n",
    "    'Length',\n",
    "    'Diameter',\n",
    "    'Height',\n",
    "    'Whole weight',\n",
    "    'Shucked weight',\n",
    "    'Viscera weight',\n",
    "    'Shell weight',\n",
    "    'Rings',\n",
    "]\n",
    "\n",
    "# Read data in\n",
    "data = pd.read_csv('abalone.data', names=attribute_names)\n",
    "\n",
    "# Display example rows\n",
    "data.head()\n"
   ]
  },
  {
   "cell_type": "code",
   "execution_count": 3,
   "metadata": {
    "scrolled": true
   },
   "outputs": [
    {
     "data": {
      "image/png": "[encoded data removed]",
      "text/plain": [
       "<Figure size 1080x864 with 9 Axes>"
      ]
     },
     "metadata": {
      "needs_background": "light"
     },
     "output_type": "display_data"
    }
   ],
   "source": [
    "# Histogram of numerical features\n",
    "_ = data.hist(bins=50, figsize=(15,12))\n"
   ]
  },
  {
   "cell_type": "code",
   "execution_count": 4,
   "metadata": {},
   "outputs": [
    {
     "data": {
      "text/html": [
       "<div>\n",
       "<style scoped>\n",
       "    .dataframe tbody tr th:only-of-type {\n",
       "        vertical-align: middle;\n",
       "    }\n",
       "\n",
       "    .dataframe tbody tr th {\n",
       "        vertical-align: top;\n",
       "    }\n",
       "\n",
       "    .dataframe thead th {\n",
       "        text-align: right;\n",
       "    }\n",
       "</style>\n",
       "<table border=\"1\" class=\"dataframe\">\n",
       "  <thead>\n",
       "    <tr style=\"text-align: right;\">\n",
       "      <th></th>\n",
       "      <th>Length</th>\n",
       "      <th>Diameter</th>\n",
       "      <th>Height</th>\n",
       "      <th>Whole weight</th>\n",
       "      <th>Shucked weight</th>\n",
       "      <th>Viscera weight</th>\n",
       "      <th>Shell weight</th>\n",
       "      <th>Rings</th>\n",
       "    </tr>\n",
       "  </thead>\n",
       "  <tbody>\n",
       "    <tr>\n",
       "      <th>count</th>\n",
       "      <td>4177.000000</td>\n",
       "      <td>4177.000000</td>\n",
       "      <td>4177.000000</td>\n",
       "      <td>4177.000000</td>\n",
       "      <td>4177.000000</td>\n",
       "      <td>4177.000000</td>\n",
       "      <td>4177.000000</td>\n",
       "      <td>4177.000000</td>\n",
       "    </tr>\n",
       "    <tr>\n",
       "      <th>mean</th>\n",
       "      <td>0.523992</td>\n",
       "      <td>0.407881</td>\n",
       "      <td>0.139516</td>\n",
       "      <td>0.828742</td>\n",
       "      <td>0.359367</td>\n",
       "      <td>0.180594</td>\n",
       "      <td>0.238831</td>\n",
       "      <td>9.933684</td>\n",
       "    </tr>\n",
       "    <tr>\n",
       "      <th>std</th>\n",
       "      <td>0.120093</td>\n",
       "      <td>0.099240</td>\n",
       "      <td>0.041827</td>\n",
       "      <td>0.490389</td>\n",
       "      <td>0.221963</td>\n",
       "      <td>0.109614</td>\n",
       "      <td>0.139203</td>\n",
       "      <td>3.224169</td>\n",
       "    </tr>\n",
       "    <tr>\n",
       "      <th>min</th>\n",
       "      <td>0.075000</td>\n",
       "      <td>0.055000</td>\n",
       "      <td>0.000000</td>\n",
       "      <td>0.002000</td>\n",
       "      <td>0.001000</td>\n",
       "      <td>0.000500</td>\n",
       "      <td>0.001500</td>\n",
       "      <td>1.000000</td>\n",
       "    </tr>\n",
       "    <tr>\n",
       "      <th>25%</th>\n",
       "      <td>0.450000</td>\n",
       "      <td>0.350000</td>\n",
       "      <td>0.115000</td>\n",
       "      <td>0.441500</td>\n",
       "      <td>0.186000</td>\n",
       "      <td>0.093500</td>\n",
       "      <td>0.130000</td>\n",
       "      <td>8.000000</td>\n",
       "    </tr>\n",
       "    <tr>\n",
       "      <th>50%</th>\n",
       "      <td>0.545000</td>\n",
       "      <td>0.425000</td>\n",
       "      <td>0.140000</td>\n",
       "      <td>0.799500</td>\n",
       "      <td>0.336000</td>\n",
       "      <td>0.171000</td>\n",
       "      <td>0.234000</td>\n",
       "      <td>9.000000</td>\n",
       "    </tr>\n",
       "    <tr>\n",
       "      <th>75%</th>\n",
       "      <td>0.615000</td>\n",
       "      <td>0.480000</td>\n",
       "      <td>0.165000</td>\n",
       "      <td>1.153000</td>\n",
       "      <td>0.502000</td>\n",
       "      <td>0.253000</td>\n",
       "      <td>0.329000</td>\n",
       "      <td>11.000000</td>\n",
       "    </tr>\n",
       "    <tr>\n",
       "      <th>max</th>\n",
       "      <td>0.815000</td>\n",
       "      <td>0.650000</td>\n",
       "      <td>1.130000</td>\n",
       "      <td>2.825500</td>\n",
       "      <td>1.488000</td>\n",
       "      <td>0.760000</td>\n",
       "      <td>1.005000</td>\n",
       "      <td>29.000000</td>\n",
       "    </tr>\n",
       "  </tbody>\n",
       "</table>\n",
       "</div>"
      ],
      "text/plain": [
       "            Length     Diameter       Height  Whole weight  Shucked weight  \\\n",
       "count  4177.000000  4177.000000  4177.000000   4177.000000     4177.000000   \n",
       "mean      0.523992     0.407881     0.139516      0.828742        0.359367   \n",
       "std       0.120093     0.099240     0.041827      0.490389        0.221963   \n",
       "min       0.075000     0.055000     0.000000      0.002000        0.001000   \n",
       "25%       0.450000     0.350000     0.115000      0.441500        0.186000   \n",
       "50%       0.545000     0.425000     0.140000      0.799500        0.336000   \n",
       "75%       0.615000     0.480000     0.165000      1.153000        0.502000   \n",
       "max       0.815000     0.650000     1.130000      2.825500        1.488000   \n",
       "\n",
       "       Viscera weight  Shell weight        Rings  \n",
       "count     4177.000000   4177.000000  4177.000000  \n",
       "mean         0.180594      0.238831     9.933684  \n",
       "std          0.109614      0.139203     3.224169  \n",
       "min          0.000500      0.001500     1.000000  \n",
       "25%          0.093500      0.130000     8.000000  \n",
       "50%          0.171000      0.234000     9.000000  \n",
       "75%          0.253000      0.329000    11.000000  \n",
       "max          0.760000      1.005000    29.000000  "
      ]
     },
     "execution_count": 4,
     "metadata": {},
     "output_type": "execute_result"
    }
   ],
   "source": [
    "# Statistics for numerical features\n",
    "data.describe()"
   ]
  },
  {
   "cell_type": "markdown",
   "metadata": {},
   "source": [
    "From the above histograms and statistics we can see that most parameter distributions are skewed to some degree (whether negatively, e.g. diameter and length or positively e.g. weight) and that the 'Rings' parameter consists only of integer values."
   ]
  },
  {
   "cell_type": "markdown",
   "metadata": {},
   "source": [
    "# 2 Train test split<a name=\"2\">\n",
    "    \n",
    "Random forests are not sensitive to feature scaling, so no normalisation of data was performed, only a 85/15 train/test split."
   ]
  },
  {
   "cell_type": "code",
   "execution_count": 5,
   "metadata": {},
   "outputs": [],
   "source": [
    "# Perform 85/15 train test split\n",
    "y = data['Rings']\n",
    "\n",
    "x = data.drop(columns=['Rings', 'Sex'])\n",
    "\n",
    "train_x, test_x, train_y, test_y= train_test_split(x, y,\n",
    "                                                   test_size=0.15,\n",
    "                                                   train_size=0.85)\n",
    "\n",
    "train_x = train_x.reset_index(drop=True)\n",
    "test_x = test_x.reset_index(drop=True)\n",
    "train_y = train_y.reset_index(drop=True)\n",
    "test_y = test_y.reset_index(drop=True)\n"
   ]
  },
  {
   "cell_type": "markdown",
   "metadata": {},
   "source": [
    "# 3 Random forrest regressor<a name=\"3\">"
   ]
  },
  {
   "cell_type": "code",
   "execution_count": 6,
   "metadata": {},
   "outputs": [],
   "source": [
    "# Several helper functions to clean up code in later cells.\n",
    "\n",
    "def get_results(regressor,  # untrained regressor,\n",
    "                  train_x: pd.DataFrame, train_y: pd.Series,\n",
    "                  test_x: pd.DataFrame, test_y: pd.Series):\n",
    "    \"\"\"\n",
    "    Fit and run staged predictions for given regressor\n",
    "    \"\"\"    \n",
    "    # Train regressor\n",
    "    regressor.fit(train_x, train_y)\n",
    "    \n",
    "    y_train_pred = np.round(regressor.predict(train_x))\n",
    "    y_test_pred = np.round(regressor.predict(test_x))\n",
    "\n",
    "    return (y_train_pred, y_test_pred)\n",
    "\n",
    "\n",
    "def print_mse(train_true, train_pred, test_true, test_pred):\n",
    "    \"\"\"Print MSE table from results\"\"\"\n",
    "    train_mse = mean_squared_error(train_true, train_pred)\n",
    "    test_mse = mean_squared_error(test_true, test_pred)\n",
    "    row_names = [\"Training MSE\", \"Testing MSE\"]\n",
    "    mse_table = pd.DataFrame(data=([train_mse, test_mse]),\n",
    "                             index=row_names)\n",
    "    html_table = mse_table.to_html(float_format=lambda a: str(round(a,4)),\n",
    "                                   header=False,\n",
    "                                   justify=\"left\")\n",
    "    print(\"Regressor mean squared errors:\")\n",
    "    display(HTML(html_table))\n",
    "\n",
    "    \n",
    "def print_trimmed_mse(true,  # Actual y values: [train, test]\n",
    "                      orig,  # Original predictions: [train, test]\n",
    "                      trim   # Trimmed feature predictions: [train, test]\n",
    "             ):\n",
    "    \"\"\"Print MSE table from results\"\"\"\n",
    "    mse = [[mean_squared_error(true[0], orig[0]),\n",
    "                mean_squared_error(true[0], trim[0])],\n",
    "               [mean_squared_error(true[1], orig[1]),\n",
    "                mean_squared_error(true[1], trim[1])\n",
    "               ]]\n",
    "    row_names = [\"Training MSE\", \"Testing MSE\"]\n",
    "    col_names = [\"Original Features\", \"Trimmed Features\"]\n",
    "    mse_table = pd.DataFrame(data=mse,\n",
    "                             index=row_names,\n",
    "                             columns=col_names)\n",
    "    html_table = mse_table.to_html(float_format=lambda a: str(round(a,4)),\n",
    "                                   justify=\"left\")\n",
    "    print(\"Regressor mean squared errors:\")\n",
    "    display(HTML(html_table))\n",
    "\n",
    "    \n",
    "def raw_error_hist(train_y, test_y, train_pred, test_pred, trim_train_pred=None, trim_test_pred=None):\n",
    "    \n",
    "    def get_bar_heights(train_y, train_pred, test_y, test_pred, x_vals):\n",
    "        y_train_re = train_pred - train_y\n",
    "        y_test_re = test_pred - test_y\n",
    "        \n",
    "        y_train = bar_heights_from_errors(x_vals, y_train_re)\n",
    "        y_test = bar_heights_from_errors(x_vals, y_test_re)\n",
    "        \n",
    "        return (y_train, y_test)\n",
    "    \n",
    "    def bar_heights_from_errors(x_vals, x_counts):\n",
    "        bar_heights = []\n",
    "        for x in x_vals:\n",
    "            bar_heights.append((x_counts == x).sum())\n",
    "        return bar_heights\n",
    "\n",
    "    show_trimmed = trim_train_pred is not None and trim_test_pred is not None\n",
    "    min_x = min(train_pred - train_y)\n",
    "    max_x = max(train_pred - train_y)\n",
    "    x = np.arange(min_x, max_x)  # X axis values\n",
    "    \n",
    "    y1_train, y1_test = get_bar_heights(train_y, train_pred, test_y, test_pred, x)\n",
    "    if show_trimmed:\n",
    "        y2_train, y2_test = get_bar_heights(train_y, trim_train_pred, test_y, trim_test_pred, x)\n",
    "    fig, ax = plt.subplots(ncols=2,figsize=(15, 5))\n",
    "    ax1 = ax[0]\n",
    "    ax2 = ax[1]\n",
    "    \n",
    "    width = 0.4  # Bar widths\n",
    "    \n",
    "    if not show_trimmed:\n",
    "        rects1 = ax1.bar(x, y1_train, width, label='All feat.')\n",
    "        rects2 = ax2.bar(x, y1_test, width, label='All feat.')\n",
    "    if show_trimmed:\n",
    "        rects1 = ax1.bar(x - width/2, y1_train, width, label='All feat.')\n",
    "        rects2 = ax1.bar(x + width/2, y2_train, width, label='Trimmed')\n",
    "        rects3 = ax2.bar(x - width/2, y1_test, width, label='All feat.')\n",
    "        rects4 = ax2.bar(x + width/2, y2_test, width, label='Trimmed')\n",
    "    \n",
    "    # Add some text for labels, title and custom x-axis tick labels, etc.\n",
    "    fig.suptitle('Histograms of Raw Errors', fontsize=16)\n",
    "    ax1.set_xlabel('Raw Error')\n",
    "    ax1.set_xticks(np.arange(min_x, max_x,))\n",
    "    ax1.set_ylabel('Occurrences')\n",
    "    ax1.set_title('Training Raw Errors')\n",
    "    ax2.set_xlabel('Raw Error')\n",
    "    ax2.set_xticks(np.arange(min_x, max_x,))\n",
    "    ax2.set_ylabel('Occurrences')\n",
    "    ax2.set_title('Testing Raw Errors')\n",
    "    if show_trimmed:\n",
    "        ax1.legend()\n",
    "        ax2.legend()\n",
    "    \n"
   ]
  },
  {
   "cell_type": "markdown",
   "metadata": {},
   "source": [
    "## Grid Search <a name=3.1/>\n",
    "\n",
    "Here we perform a grid search of several hyperparameters to find the best combination for the random forest regressor as it is quicker and more reliable than searching through hyperparameters manually. This can take 10-30 seconds to complete."
   ]
  },
  {
   "cell_type": "code",
   "execution_count": 7,
   "metadata": {},
   "outputs": [],
   "source": [
    "param_grid = {\n",
    "    \"n_estimators\": [25, 250],\n",
    "    \"max_features\": [0.2, 0.5, 1],\n",
    "    \"min_samples_leaf\": [1, 10]\n",
    "}\n",
    "\n",
    "regressor = RandomForestRegressor()\n",
    "reg = GridSearchCV(regressor, param_grid)\n",
    "_ = reg.fit(x, y)"
   ]
  },
  {
   "cell_type": "code",
   "execution_count": 8,
   "metadata": {},
   "outputs": [
    {
     "name": "stdout",
     "output_type": "stream",
     "text": [
      "Results sorted by score:\n",
      "       score  n_estimators  min_samples_leaf  max_features\n",
      "7   0.466386         250.0              10.0           0.5\n",
      "6   0.461780          25.0              10.0           0.5\n",
      "5   0.452598         250.0               1.0           0.5\n",
      "1   0.446132         250.0               1.0           0.2\n",
      "9   0.441996         250.0               1.0           1.0\n",
      "4   0.432497          25.0               1.0           0.5\n",
      "8   0.423021          25.0               1.0           1.0\n",
      "11  0.422223         250.0              10.0           1.0\n",
      "3   0.421249         250.0              10.0           0.2\n",
      "2   0.417371          25.0              10.0           0.2\n",
      "0   0.416888          25.0               1.0           0.2\n",
      "10  0.415267          25.0              10.0           1.0\n",
      "\n",
      "Best score: 0.46639\n",
      "Best parameters: {'max_features': 0.5, 'min_samples_leaf': 10, 'n_estimators': 250}\n"
     ]
    }
   ],
   "source": [
    "df_data = np.transpose([reg.cv_results_['mean_test_score'],\n",
    "                        [d['n_estimators'] for d in reg.cv_results_['params']],\n",
    "                        [d['min_samples_leaf'] for d in reg.cv_results_['params']],\n",
    "                        [d['max_features'] for d in reg.cv_results_['params']]])\n",
    "results = pd.DataFrame(data=df_data,\n",
    "                       columns=['score', 'n_estimators', 'min_samples_leaf', 'max_features'])\n",
    "# print(results)\n",
    "print(\"Results sorted by score:\")\n",
    "print(results.sort_values(by='score', ascending=False))\n",
    "print(\"\")\n",
    "print(f\"Best score: {reg.best_score_:.5f}\")\n",
    "print(f\"Best parameters: {reg.best_params_}\")\n"
   ]
  },
  {
   "cell_type": "markdown",
   "metadata": {},
   "source": [
    "## Regressor fitting and predicting <a name=3.2/>"
   ]
  },
  {
   "cell_type": "code",
   "execution_count": 9,
   "metadata": {},
   "outputs": [
    {
     "name": "stdout",
     "output_type": "stream",
     "text": [
      "Regressor mean squared errors:\n"
     ]
    },
    {
     "data": {
      "text/html": [
       "<table border=\"1\" class=\"dataframe\">\n",
       "  <tbody>\n",
       "    <tr>\n",
       "      <th>Training MSE</th>\n",
       "      <td>3.4575</td>\n",
       "    </tr>\n",
       "    <tr>\n",
       "      <th>Testing MSE</th>\n",
       "      <td>4.5869</td>\n",
       "    </tr>\n",
       "  </tbody>\n",
       "</table>"
      ],
      "text/plain": [
       "<IPython.core.display.HTML object>"
      ]
     },
     "metadata": {},
     "output_type": "display_data"
    }
   ],
   "source": [
    "reg_args = {  # Arguments to be used by regressor\n",
    "    'n_estimators': 250,\n",
    "    'max_features': 0.5,\n",
    "    'min_samples_leaf': 10\n",
    "}\n",
    "\n",
    "regressor = RandomForestRegressor(**reg_args)\n",
    "train_pred, test_pred = get_results(regressor, train_x, train_y, test_x, test_y)\n",
    "print_mse(train_y, train_pred, test_y, test_pred)"
   ]
  },
  {
   "cell_type": "markdown",
   "metadata": {},
   "source": [
    "## Raw error histograms <a name=3.3/>"
   ]
  },
  {
   "cell_type": "code",
   "execution_count": 10,
   "metadata": {},
   "outputs": [
    {
     "data": {
      "image/png": "[encoded data removed]",
      "text/plain": [
       "<Figure size 1080x360 with 2 Axes>"
      ]
     },
     "metadata": {
      "needs_background": "light"
     },
     "output_type": "display_data"
    }
   ],
   "source": [
    "raw_error_hist(train_y, test_y, train_pred, test_pred)"
   ]
  },
  {
   "cell_type": "markdown",
   "metadata": {},
   "source": [
    "# 4 Feature importance trimming<a name=\"4\">"
   ]
  },
  {
   "cell_type": "code",
   "execution_count": 11,
   "metadata": {},
   "outputs": [
    {
     "name": "stdout",
     "output_type": "stream",
     "text": [
      "Feature importances:\n",
      "                       0\n",
      "Shell weight    0.399820\n",
      "Height          0.159558\n",
      "Shucked weight  0.128473\n",
      "Whole weight    0.109907\n",
      "Viscera weight  0.089949\n",
      "Diameter        0.074951\n",
      "Length          0.037341\n",
      "\n",
      "If we remove the least important feature (Length), the remaining features retain 96.27% feature importance.\n"
     ]
    }
   ],
   "source": [
    "feature_importance = pd.DataFrame(data=regressor.feature_importances_,\n",
    "                                  index=train_x.columns)\n",
    "feature_importance = feature_importance.sort_values(by=0, axis='rows', ascending=False)\n",
    "print(\"Feature importances:\")\n",
    "print(feature_importance)\n",
    "print(f\"\\nIf we remove the least important feature (Length), the remaining features retain {sum(feature_importance[0][0:-1]) * 100:.2f}% feature importance.\")"
   ]
  },
  {
   "cell_type": "code",
   "execution_count": 12,
   "metadata": {},
   "outputs": [
    {
     "name": "stdout",
     "output_type": "stream",
     "text": [
      "Regressor mean squared errors:\n"
     ]
    },
    {
     "data": {
      "text/html": [
       "<table border=\"1\" class=\"dataframe\">\n",
       "  <thead>\n",
       "    <tr style=\"text-align: left;\">\n",
       "      <th></th>\n",
       "      <th>Original Features</th>\n",
       "      <th>Trimmed Features</th>\n",
       "    </tr>\n",
       "  </thead>\n",
       "  <tbody>\n",
       "    <tr>\n",
       "      <th>Training MSE</th>\n",
       "      <td>3.4575</td>\n",
       "      <td>3.4524</td>\n",
       "    </tr>\n",
       "    <tr>\n",
       "      <th>Testing MSE</th>\n",
       "      <td>4.5869</td>\n",
       "      <td>4.5343</td>\n",
       "    </tr>\n",
       "  </tbody>\n",
       "</table>"
      ],
      "text/plain": [
       "<IPython.core.display.HTML object>"
      ]
     },
     "metadata": {},
     "output_type": "display_data"
    }
   ],
   "source": [
    "train_x_trim = train_x.drop(columns=['Length'])\n",
    "test_x_trim = test_x.drop(columns=['Length'])\n",
    "\n",
    "regressor_trim = RandomForestRegressor(**reg_args)\n",
    "train_trim_pred, test_trim_pred = get_results(regressor, train_x_trim, train_y, test_x_trim, test_y)\n",
    "print_trimmed_mse([train_y, test_y], [train_pred, test_pred], [train_trim_pred, test_trim_pred])"
   ]
  },
  {
   "cell_type": "code",
   "execution_count": 13,
   "metadata": {},
   "outputs": [
    {
     "data": {
      "image/png": "[encoded data removed]",
      "text/plain": [
       "<Figure size 1080x360 with 2 Axes>"
      ]
     },
     "metadata": {
      "needs_background": "light"
     },
     "output_type": "display_data"
    }
   ],
   "source": [
    "raw_error_hist(train_y, test_y, train_pred, test_pred, train_trim_pred, test_trim_pred)"
   ]
  },
  {
   "cell_type": "markdown",
   "metadata": {},
   "source": [
    "# 5 Conclusion and discussion <a name=\"5\">\n",
    "\n",
    "    \n",
    "The hyperparameters for the random forest regressor (RFR) were selected by grid search, which showed both increasing the number of estimators and reducing the number of features considered at each split improved the regressor's ability to generalise, as demonstrated by a train MSE much closer to the test MSE and a ~10% MSE improvement for the test set over default RFR hyperparameters.\n",
    "    \n",
    "Dimensionality reduction was done manually by removing the least important feature (Length) after observing it had a roughly 4% feature importance. The removal of this feature led to a small but likely insigificant increase in test set MSE (~2% from 5.5 to 5.6 in my case).\n",
    "    \n",
    "Looking at the histograms of raw errors for both the trianing and testing sets we observe significant negative skewness (i.e. a long negative tail in the raw prediction error distribution), but a positive prediction bias (i.e. the regressor is more likely to over rather than under predict the number of rings). Both of these can observations can be largely explained by the true distribution of rings in the dataset; it has a positive skew hence the predictions which likely have a lower skew will result in the distribution of raw errors having the inverse skew of the actual values."
   ]
  }
 ],
 "metadata": {
  "kernelspec": {
   "display_name": "Python 3",
   "language": "python",
   "name": "python3"
  },
  "language_info": {
   "codemirror_mode": {
    "name": "ipython",
    "version": 3
   },
   "file_extension": ".py",
   "mimetype": "text/x-python",
   "name": "python",
   "nbconvert_exporter": "python",
   "pygments_lexer": "ipython3",
   "version": "3.7.5"
  }
 },
 "nbformat": 4,
 "nbformat_minor": 4
}
