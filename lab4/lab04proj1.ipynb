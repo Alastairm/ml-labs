{
 "cells": [
  {
   "cell_type": "markdown",
   "metadata": {},
   "source": [
    "# <center>CITS5508 Lab sheet 4 Project 1</center>\n",
    "\n",
    "**Name:** Alastair Mory<br>\n",
    "**Student number:** 21120848<br>\n",
    "\n",
    "\n",
    "<br><b>Contents</b><br>\n",
    "[1 Data Reading, Visualisation and Statistics](#1)<br>\n",
    "\n",
    "[2 Train test split and data normalisation](#2)<br>\n",
    "\n",
    "[3 AdaBoost and gradient boosting regressors ](#3)<br>\n",
    "&nbsp;&nbsp;&nbsp;&nbsp;[Boost stages / iterations mean squared error](#3.1)<br>\n",
    "&nbsp;&nbsp;&nbsp;&nbsp;[Raw error histograms](#3.2)<br>\n",
    "\n",
    "[4 Conclusion and discussion](#4)<br>\n"
   ]
  },
  {
   "cell_type": "code",
   "execution_count": 1,
   "metadata": {},
   "outputs": [],
   "source": [
    "from typing import Any\n",
    "\n",
    "from IPython.display import display, HTML\n",
    "\n",
    "import numpy as np\n",
    "import matplotlib.pyplot as plt\n",
    "import pandas as pd\n",
    "\n",
    "from sklearn.ensemble import AdaBoostRegressor, GradientBoostingRegressor\n",
    "from sklearn.metrics import mean_squared_error\n",
    "from sklearn.model_selection import train_test_split\n",
    "from sklearn.preprocessing import StandardScaler\n",
    "from sklearn.svm import SVR"
   ]
  },
  {
   "cell_type": "markdown",
   "metadata": {},
   "source": [
    "# 1 Data Reading, Visualisation and Statistics <a name=\"1\">"
   ]
  },
  {
   "cell_type": "code",
   "execution_count": 2,
   "metadata": {},
   "outputs": [
    {
     "data": {
      "text/html": [
       "<div>\n",
       "<style scoped>\n",
       "    .dataframe tbody tr th:only-of-type {\n",
       "        vertical-align: middle;\n",
       "    }\n",
       "\n",
       "    .dataframe tbody tr th {\n",
       "        vertical-align: top;\n",
       "    }\n",
       "\n",
       "    .dataframe thead th {\n",
       "        text-align: right;\n",
       "    }\n",
       "</style>\n",
       "<table border=\"1\" class=\"dataframe\">\n",
       "  <thead>\n",
       "    <tr style=\"text-align: right;\">\n",
       "      <th></th>\n",
       "      <th>fixed acidity</th>\n",
       "      <th>volatile acidity</th>\n",
       "      <th>citric acid</th>\n",
       "      <th>residual sugar</th>\n",
       "      <th>chlorides</th>\n",
       "      <th>free sulfur dioxide</th>\n",
       "      <th>total sulfur dioxide</th>\n",
       "      <th>density</th>\n",
       "      <th>pH</th>\n",
       "      <th>sulphates</th>\n",
       "      <th>alcohol</th>\n",
       "      <th>quality</th>\n",
       "    </tr>\n",
       "  </thead>\n",
       "  <tbody>\n",
       "    <tr>\n",
       "      <th>0</th>\n",
       "      <td>7.0</td>\n",
       "      <td>0.27</td>\n",
       "      <td>0.36</td>\n",
       "      <td>20.7</td>\n",
       "      <td>0.045</td>\n",
       "      <td>45.0</td>\n",
       "      <td>170.0</td>\n",
       "      <td>1.0010</td>\n",
       "      <td>3.00</td>\n",
       "      <td>0.45</td>\n",
       "      <td>8.8</td>\n",
       "      <td>6</td>\n",
       "    </tr>\n",
       "    <tr>\n",
       "      <th>1</th>\n",
       "      <td>6.3</td>\n",
       "      <td>0.30</td>\n",
       "      <td>0.34</td>\n",
       "      <td>1.6</td>\n",
       "      <td>0.049</td>\n",
       "      <td>14.0</td>\n",
       "      <td>132.0</td>\n",
       "      <td>0.9940</td>\n",
       "      <td>3.30</td>\n",
       "      <td>0.49</td>\n",
       "      <td>9.5</td>\n",
       "      <td>6</td>\n",
       "    </tr>\n",
       "    <tr>\n",
       "      <th>2</th>\n",
       "      <td>8.1</td>\n",
       "      <td>0.28</td>\n",
       "      <td>0.40</td>\n",
       "      <td>6.9</td>\n",
       "      <td>0.050</td>\n",
       "      <td>30.0</td>\n",
       "      <td>97.0</td>\n",
       "      <td>0.9951</td>\n",
       "      <td>3.26</td>\n",
       "      <td>0.44</td>\n",
       "      <td>10.1</td>\n",
       "      <td>6</td>\n",
       "    </tr>\n",
       "    <tr>\n",
       "      <th>3</th>\n",
       "      <td>7.2</td>\n",
       "      <td>0.23</td>\n",
       "      <td>0.32</td>\n",
       "      <td>8.5</td>\n",
       "      <td>0.058</td>\n",
       "      <td>47.0</td>\n",
       "      <td>186.0</td>\n",
       "      <td>0.9956</td>\n",
       "      <td>3.19</td>\n",
       "      <td>0.40</td>\n",
       "      <td>9.9</td>\n",
       "      <td>6</td>\n",
       "    </tr>\n",
       "    <tr>\n",
       "      <th>4</th>\n",
       "      <td>7.2</td>\n",
       "      <td>0.23</td>\n",
       "      <td>0.32</td>\n",
       "      <td>8.5</td>\n",
       "      <td>0.058</td>\n",
       "      <td>47.0</td>\n",
       "      <td>186.0</td>\n",
       "      <td>0.9956</td>\n",
       "      <td>3.19</td>\n",
       "      <td>0.40</td>\n",
       "      <td>9.9</td>\n",
       "      <td>6</td>\n",
       "    </tr>\n",
       "  </tbody>\n",
       "</table>\n",
       "</div>"
      ],
      "text/plain": [
       "   fixed acidity  volatile acidity  citric acid  residual sugar  chlorides  \\\n",
       "0            7.0              0.27         0.36            20.7      0.045   \n",
       "1            6.3              0.30         0.34             1.6      0.049   \n",
       "2            8.1              0.28         0.40             6.9      0.050   \n",
       "3            7.2              0.23         0.32             8.5      0.058   \n",
       "4            7.2              0.23         0.32             8.5      0.058   \n",
       "\n",
       "   free sulfur dioxide  total sulfur dioxide  density    pH  sulphates  \\\n",
       "0                 45.0                 170.0   1.0010  3.00       0.45   \n",
       "1                 14.0                 132.0   0.9940  3.30       0.49   \n",
       "2                 30.0                  97.0   0.9951  3.26       0.44   \n",
       "3                 47.0                 186.0   0.9956  3.19       0.40   \n",
       "4                 47.0                 186.0   0.9956  3.19       0.40   \n",
       "\n",
       "   alcohol  quality  \n",
       "0      8.8        6  \n",
       "1      9.5        6  \n",
       "2     10.1        6  \n",
       "3      9.9        6  \n",
       "4      9.9        6  "
      ]
     },
     "execution_count": 2,
     "metadata": {},
     "output_type": "execute_result"
    }
   ],
   "source": [
    "# Read data in\n",
    "data = pd.read_csv('winequality-white.csv', sep=';')\n",
    "\n",
    "# Display example rows\n",
    "data.head()"
   ]
  },
  {
   "cell_type": "code",
   "execution_count": 3,
   "metadata": {},
   "outputs": [
    {
     "data": {
      "image/png": "[encoded data removed]",
      "text/plain": [
       "<Figure size 1080x864 with 12 Axes>"
      ]
     },
     "metadata": {
      "needs_background": "light"
     },
     "output_type": "display_data"
    }
   ],
   "source": [
    "# Histogram of numerical features\n",
    "_ = data.hist(bins=50, figsize=(15,12))"
   ]
  },
  {
   "cell_type": "code",
   "execution_count": 4,
   "metadata": {},
   "outputs": [
    {
     "data": {
      "text/html": [
       "<div>\n",
       "<style scoped>\n",
       "    .dataframe tbody tr th:only-of-type {\n",
       "        vertical-align: middle;\n",
       "    }\n",
       "\n",
       "    .dataframe tbody tr th {\n",
       "        vertical-align: top;\n",
       "    }\n",
       "\n",
       "    .dataframe thead th {\n",
       "        text-align: right;\n",
       "    }\n",
       "</style>\n",
       "<table border=\"1\" class=\"dataframe\">\n",
       "  <thead>\n",
       "    <tr style=\"text-align: right;\">\n",
       "      <th></th>\n",
       "      <th>fixed acidity</th>\n",
       "      <th>volatile acidity</th>\n",
       "      <th>citric acid</th>\n",
       "      <th>residual sugar</th>\n",
       "      <th>chlorides</th>\n",
       "      <th>free sulfur dioxide</th>\n",
       "      <th>total sulfur dioxide</th>\n",
       "      <th>density</th>\n",
       "      <th>pH</th>\n",
       "      <th>sulphates</th>\n",
       "      <th>alcohol</th>\n",
       "      <th>quality</th>\n",
       "    </tr>\n",
       "  </thead>\n",
       "  <tbody>\n",
       "    <tr>\n",
       "      <th>count</th>\n",
       "      <td>4898.000000</td>\n",
       "      <td>4898.000000</td>\n",
       "      <td>4898.000000</td>\n",
       "      <td>4898.000000</td>\n",
       "      <td>4898.000000</td>\n",
       "      <td>4898.000000</td>\n",
       "      <td>4898.000000</td>\n",
       "      <td>4898.000000</td>\n",
       "      <td>4898.000000</td>\n",
       "      <td>4898.000000</td>\n",
       "      <td>4898.000000</td>\n",
       "      <td>4898.000000</td>\n",
       "    </tr>\n",
       "    <tr>\n",
       "      <th>mean</th>\n",
       "      <td>6.854788</td>\n",
       "      <td>0.278241</td>\n",
       "      <td>0.334192</td>\n",
       "      <td>6.391415</td>\n",
       "      <td>0.045772</td>\n",
       "      <td>35.308085</td>\n",
       "      <td>138.360657</td>\n",
       "      <td>0.994027</td>\n",
       "      <td>3.188267</td>\n",
       "      <td>0.489847</td>\n",
       "      <td>10.514267</td>\n",
       "      <td>5.877909</td>\n",
       "    </tr>\n",
       "    <tr>\n",
       "      <th>std</th>\n",
       "      <td>0.843868</td>\n",
       "      <td>0.100795</td>\n",
       "      <td>0.121020</td>\n",
       "      <td>5.072058</td>\n",
       "      <td>0.021848</td>\n",
       "      <td>17.007137</td>\n",
       "      <td>42.498065</td>\n",
       "      <td>0.002991</td>\n",
       "      <td>0.151001</td>\n",
       "      <td>0.114126</td>\n",
       "      <td>1.230621</td>\n",
       "      <td>0.885639</td>\n",
       "    </tr>\n",
       "    <tr>\n",
       "      <th>min</th>\n",
       "      <td>3.800000</td>\n",
       "      <td>0.080000</td>\n",
       "      <td>0.000000</td>\n",
       "      <td>0.600000</td>\n",
       "      <td>0.009000</td>\n",
       "      <td>2.000000</td>\n",
       "      <td>9.000000</td>\n",
       "      <td>0.987110</td>\n",
       "      <td>2.720000</td>\n",
       "      <td>0.220000</td>\n",
       "      <td>8.000000</td>\n",
       "      <td>3.000000</td>\n",
       "    </tr>\n",
       "    <tr>\n",
       "      <th>25%</th>\n",
       "      <td>6.300000</td>\n",
       "      <td>0.210000</td>\n",
       "      <td>0.270000</td>\n",
       "      <td>1.700000</td>\n",
       "      <td>0.036000</td>\n",
       "      <td>23.000000</td>\n",
       "      <td>108.000000</td>\n",
       "      <td>0.991723</td>\n",
       "      <td>3.090000</td>\n",
       "      <td>0.410000</td>\n",
       "      <td>9.500000</td>\n",
       "      <td>5.000000</td>\n",
       "    </tr>\n",
       "    <tr>\n",
       "      <th>50%</th>\n",
       "      <td>6.800000</td>\n",
       "      <td>0.260000</td>\n",
       "      <td>0.320000</td>\n",
       "      <td>5.200000</td>\n",
       "      <td>0.043000</td>\n",
       "      <td>34.000000</td>\n",
       "      <td>134.000000</td>\n",
       "      <td>0.993740</td>\n",
       "      <td>3.180000</td>\n",
       "      <td>0.470000</td>\n",
       "      <td>10.400000</td>\n",
       "      <td>6.000000</td>\n",
       "    </tr>\n",
       "    <tr>\n",
       "      <th>75%</th>\n",
       "      <td>7.300000</td>\n",
       "      <td>0.320000</td>\n",
       "      <td>0.390000</td>\n",
       "      <td>9.900000</td>\n",
       "      <td>0.050000</td>\n",
       "      <td>46.000000</td>\n",
       "      <td>167.000000</td>\n",
       "      <td>0.996100</td>\n",
       "      <td>3.280000</td>\n",
       "      <td>0.550000</td>\n",
       "      <td>11.400000</td>\n",
       "      <td>6.000000</td>\n",
       "    </tr>\n",
       "    <tr>\n",
       "      <th>max</th>\n",
       "      <td>14.200000</td>\n",
       "      <td>1.100000</td>\n",
       "      <td>1.660000</td>\n",
       "      <td>65.800000</td>\n",
       "      <td>0.346000</td>\n",
       "      <td>289.000000</td>\n",
       "      <td>440.000000</td>\n",
       "      <td>1.038980</td>\n",
       "      <td>3.820000</td>\n",
       "      <td>1.080000</td>\n",
       "      <td>14.200000</td>\n",
       "      <td>9.000000</td>\n",
       "    </tr>\n",
       "  </tbody>\n",
       "</table>\n",
       "</div>"
      ],
      "text/plain": [
       "       fixed acidity  volatile acidity  citric acid  residual sugar  \\\n",
       "count    4898.000000       4898.000000  4898.000000     4898.000000   \n",
       "mean        6.854788          0.278241     0.334192        6.391415   \n",
       "std         0.843868          0.100795     0.121020        5.072058   \n",
       "min         3.800000          0.080000     0.000000        0.600000   \n",
       "25%         6.300000          0.210000     0.270000        1.700000   \n",
       "50%         6.800000          0.260000     0.320000        5.200000   \n",
       "75%         7.300000          0.320000     0.390000        9.900000   \n",
       "max        14.200000          1.100000     1.660000       65.800000   \n",
       "\n",
       "         chlorides  free sulfur dioxide  total sulfur dioxide      density  \\\n",
       "count  4898.000000          4898.000000           4898.000000  4898.000000   \n",
       "mean      0.045772            35.308085            138.360657     0.994027   \n",
       "std       0.021848            17.007137             42.498065     0.002991   \n",
       "min       0.009000             2.000000              9.000000     0.987110   \n",
       "25%       0.036000            23.000000            108.000000     0.991723   \n",
       "50%       0.043000            34.000000            134.000000     0.993740   \n",
       "75%       0.050000            46.000000            167.000000     0.996100   \n",
       "max       0.346000           289.000000            440.000000     1.038980   \n",
       "\n",
       "                pH    sulphates      alcohol      quality  \n",
       "count  4898.000000  4898.000000  4898.000000  4898.000000  \n",
       "mean      3.188267     0.489847    10.514267     5.877909  \n",
       "std       0.151001     0.114126     1.230621     0.885639  \n",
       "min       2.720000     0.220000     8.000000     3.000000  \n",
       "25%       3.090000     0.410000     9.500000     5.000000  \n",
       "50%       3.180000     0.470000    10.400000     6.000000  \n",
       "75%       3.280000     0.550000    11.400000     6.000000  \n",
       "max       3.820000     1.080000    14.200000     9.000000  "
      ]
     },
     "execution_count": 4,
     "metadata": {},
     "output_type": "execute_result"
    }
   ],
   "source": [
    "# Statistics for numerical features\n",
    "data.describe()"
   ]
  },
  {
   "cell_type": "markdown",
   "metadata": {},
   "source": [
    "From the above histograms and statistics we can see that most parameter distributions are relatively unskewed (with the exception of 'residual sugar', and to a lesser degree 'alcohol'), despite generally having long tails. It is also worth noting the parameter we wish to predict (quality) consists of only seven integer values."
   ]
  },
  {
   "cell_type": "markdown",
   "metadata": {},
   "source": [
    "# 2 Train test split and data normalisation <a name=\"2\">"
   ]
  },
  {
   "cell_type": "markdown",
   "metadata": {},
   "source": [
    "Here we do a 85/15 train/test split of the data and then perform feature scaling (this is necessary because the support vector regressor is sensitive to feature scales)."
   ]
  },
  {
   "cell_type": "code",
   "execution_count": 5,
   "metadata": {},
   "outputs": [],
   "source": [
    "# Perform 85/15 train test split\n",
    "y = data['quality']\n",
    "x = data.drop(columns=['quality'])\n",
    "\n",
    "train_x, test_x, train_y, test_y= train_test_split(x, y,\n",
    "                                                   test_size=0.15,\n",
    "                                                   train_size=0.85)\n",
    "train_x = train_x.reset_index(drop=True)\n",
    "test_x = test_x.reset_index(drop=True)\n",
    "train_y = train_y.reset_index(drop=True)\n",
    "test_y = test_y.reset_index(drop=True)\n",
    "\n",
    "\n",
    "# Normalise data\n",
    "scaler = StandardScaler().fit(train_x)\n",
    "train_x = scaler.transform(train_x)\n",
    "test_x = scaler.transform(test_x)\n"
   ]
  },
  {
   "cell_type": "markdown",
   "metadata": {},
   "source": [
    "# 3 AdaBoost and gradient boosting regressors <a name=\"3\">"
   ]
  },
  {
   "cell_type": "code",
   "execution_count": 6,
   "metadata": {
    "slideshow": {
     "slide_type": "skip"
    }
   },
   "outputs": [],
   "source": [
    "# Several helper functions to clean up code in later cells.\n",
    "\n",
    "def get_results(regressor,  # untrained regressor,\n",
    "                  train_x: pd.DataFrame, train_y: pd.Series,\n",
    "                  test_x: pd.DataFrame, test_y: pd.Series):\n",
    "    \"\"\"\n",
    "    Fit and run staged predictions for given regressor\n",
    "    \"\"\"\n",
    "    results = {\n",
    "        'y_train_true': train_y,\n",
    "        'y_train_pred': [],\n",
    "        'y_test_true': test_y,\n",
    "        'y_test_pred': []\n",
    "    }\n",
    "    \n",
    "    # Train regressor\n",
    "    regressor.fit(train_x, train_y)\n",
    "    \n",
    "    # Run regressor prediction\n",
    "    for y_stage in regressor.staged_predict(train_x):\n",
    "        y_pred = np.round(y_stage)\n",
    "        results['y_train_pred'].append(y_pred)\n",
    "        \n",
    "    for y_stage in regressor.staged_predict(test_x):\n",
    "        y_pred = np.round(y_stage)\n",
    "        results['y_test_pred'].append(y_pred)\n",
    "        \n",
    "    return results\n",
    "\n",
    "\n",
    "def get_mse(results):\n",
    "    \"\"\"\n",
    "    Calculate mean squared errors for all stages of a given regressor.\n",
    "    \"\"\"\n",
    "    train_mse = []\n",
    "    for y_pred in results['y_train_pred']:\n",
    "        train_mse.append(mean_squared_error(results['y_train_true'], y_pred))\n",
    "    test_mse = []\n",
    "    for y_pred in results['y_test_pred']:\n",
    "        test_mse.append(mean_squared_error(results['y_test_true'], y_pred))   \n",
    "    return (train_mse, test_mse)\n",
    "\n",
    "\n",
    "def print_mse(results, regressor_name=\"Regressor\"):\n",
    "    \"\"\"Print MSE table from results\"\"\"\n",
    "    train_mse, test_mse = get_mse(results)\n",
    "    row_names = [\"Iteration\", \"Train MSE\", \"Test MSE\"]\n",
    "    column_names = [\"1\", \"2\", \"3\", \"4\", \"5\", \"6\"]\n",
    "    mse_table = pd.DataFrame(data=([column_names, train_mse, test_mse]),\n",
    "                             index=row_names)\n",
    "    html_table = mse_table.to_html(header=False,\n",
    "                                   float_format=lambda a: str(round(a,4)),\n",
    "                                   justify=\"left\")\n",
    "    print(f\"{regressor_name} Intermediate Model MSE\")\n",
    "    display(HTML(html_table))\n",
    "\n",
    "\n",
    "def plot_mse(results,  # dict returned by get_results()\n",
    "             regressor_name='Regressor'):\n",
    "    \"\"\"Plot MSEs from results.\"\"\"\n",
    "    n_stages = len(results['y_train_pred'])\n",
    "    \n",
    "    train_mse, test_mse = get_mse(results)\n",
    "    \n",
    "    plt.figure()\n",
    "    plt.title(regressor_name)\n",
    "\n",
    "    plt.scatter(np.arange(n_stages),train_mse)\n",
    "    plt.scatter(np.arange(n_stages),test_mse)\n",
    "    plt.plot(train_mse, label=\"Train MSE\")\n",
    "    plt.plot(test_mse, label=\"Test MSE\")\n",
    "    \n",
    "    plt.xlabel(\"Boost iteration\")\n",
    "    plt.ylabel(\"MSE\")\n",
    "    plt.xticks(np.arange(n_stages), np.arange(1, n_stages + 1))\n",
    "    plt.legend()\n",
    "    \n"
   ]
  },
  {
   "cell_type": "code",
   "execution_count": 7,
   "metadata": {},
   "outputs": [],
   "source": [
    "# Run Adaboost regressor\n",
    "regr_1 = AdaBoostRegressor(base_estimator=SVR(), n_estimators=6)\n",
    "regr_1_results = get_results(regr_1, train_x, train_y, test_x, test_y)"
   ]
  },
  {
   "cell_type": "code",
   "execution_count": 8,
   "metadata": {},
   "outputs": [],
   "source": [
    "# Run gradient boosting regressor\n",
    "regr_2 = GradientBoostingRegressor(n_estimators=6)\n",
    "regr_2_results = get_results(regr_2, train_x, train_y, test_x, test_y)"
   ]
  },
  {
   "cell_type": "markdown",
   "metadata": {},
   "source": [
    "## Boost stages / iterations mean squared error <a name=\"3.1\">"
   ]
  },
  {
   "cell_type": "code",
   "execution_count": 9,
   "metadata": {},
   "outputs": [
    {
     "name": "stdout",
     "output_type": "stream",
     "text": [
      "AdaBoost Intermediate Model MSE\n"
     ]
    },
    {
     "data": {
      "text/html": [
       "<table border=\"1\" class=\"dataframe\">\n",
       "  <tbody>\n",
       "    <tr>\n",
       "      <th>Iteration</th>\n",
       "      <td>1</td>\n",
       "      <td>2</td>\n",
       "      <td>3</td>\n",
       "      <td>4</td>\n",
       "      <td>5</td>\n",
       "      <td>6</td>\n",
       "    </tr>\n",
       "    <tr>\n",
       "      <th>Train MSE</th>\n",
       "      <td>0.4934</td>\n",
       "      <td>0.4934</td>\n",
       "      <td>0.459</td>\n",
       "      <td>0.4634</td>\n",
       "      <td>0.4494</td>\n",
       "      <td>0.4473</td>\n",
       "    </tr>\n",
       "    <tr>\n",
       "      <th>Test MSE</th>\n",
       "      <td>0.581</td>\n",
       "      <td>0.581</td>\n",
       "      <td>0.5401</td>\n",
       "      <td>0.5456</td>\n",
       "      <td>0.5442</td>\n",
       "      <td>0.5388</td>\n",
       "    </tr>\n",
       "  </tbody>\n",
       "</table>"
      ],
      "text/plain": [
       "<IPython.core.display.HTML object>"
      ]
     },
     "metadata": {},
     "output_type": "display_data"
    },
    {
     "name": "stdout",
     "output_type": "stream",
     "text": [
      "Gradient Boosting Intermediate Model MSE\n"
     ]
    },
    {
     "data": {
      "text/html": [
       "<table border=\"1\" class=\"dataframe\">\n",
       "  <tbody>\n",
       "    <tr>\n",
       "      <th>Iteration</th>\n",
       "      <td>1</td>\n",
       "      <td>2</td>\n",
       "      <td>3</td>\n",
       "      <td>4</td>\n",
       "      <td>5</td>\n",
       "      <td>6</td>\n",
       "    </tr>\n",
       "    <tr>\n",
       "      <th>Train MSE</th>\n",
       "      <td>0.8078</td>\n",
       "      <td>0.8078</td>\n",
       "      <td>0.8078</td>\n",
       "      <td>0.8078</td>\n",
       "      <td>0.8042</td>\n",
       "      <td>0.7812</td>\n",
       "    </tr>\n",
       "    <tr>\n",
       "      <th>Test MSE</th>\n",
       "      <td>0.7497</td>\n",
       "      <td>0.7497</td>\n",
       "      <td>0.7497</td>\n",
       "      <td>0.7497</td>\n",
       "      <td>0.7497</td>\n",
       "      <td>0.7469</td>\n",
       "    </tr>\n",
       "  </tbody>\n",
       "</table>"
      ],
      "text/plain": [
       "<IPython.core.display.HTML object>"
      ]
     },
     "metadata": {},
     "output_type": "display_data"
    }
   ],
   "source": [
    "print_mse(regr_1_results, regressor_name=\"AdaBoost\")\n",
    "print_mse(regr_2_results, regressor_name=\"Gradient Boosting\")"
   ]
  },
  {
   "cell_type": "code",
   "execution_count": 10,
   "metadata": {},
   "outputs": [
    {
     "data": {
      "image/png": "[encoded data removed]",
      "text/plain": [
       "<Figure size 432x288 with 1 Axes>"
      ]
     },
     "metadata": {
      "needs_background": "light"
     },
     "output_type": "display_data"
    }
   ],
   "source": [
    "plot_mse(regr_1_results, regressor_name=\"AdaBoost with SVR\")"
   ]
  },
  {
   "cell_type": "code",
   "execution_count": 11,
   "metadata": {
    "scrolled": true
   },
   "outputs": [
    {
     "data": {
      "image/png": "[encoded data removed]",
      "text/plain": [
       "<Figure size 432x288 with 1 Axes>"
      ]
     },
     "metadata": {
      "needs_background": "light"
     },
     "output_type": "display_data"
    }
   ],
   "source": [
    "plot_mse(regr_2_results, regressor_name=\"Gradient Boosting Regressor\")"
   ]
  },
  {
   "cell_type": "markdown",
   "metadata": {},
   "source": [
    "## Raw error histograms <a name=\"3.2\">"
   ]
  },
  {
   "cell_type": "code",
   "execution_count": 12,
   "metadata": {},
   "outputs": [],
   "source": [
    "def raw_error_hist(results1, results2):\n",
    "    \n",
    "    def get_bar_heights(results, x_vals):\n",
    "        y_train_true = results['y_train_true']\n",
    "        y_train_pred = results['y_train_pred'][-1]\n",
    "        y_test_true = results['y_test_true']\n",
    "        y_test_pred = results['y_test_pred'][-1]\n",
    "        \n",
    "        y_train_re = y_train_pred - y_train_true\n",
    "        y_test_re = y_test_pred - y_test_true\n",
    "        \n",
    "        y_train = bar_heights_from_errors(x_vals, y_train_re)\n",
    "        y_test = bar_heights_from_errors(x_vals, y_test_re)\n",
    "        \n",
    "        return (y_train, y_test)\n",
    "    \n",
    "    def bar_heights_from_errors(x_vals, x_counts):\n",
    "        bar_heights = []\n",
    "        for x in x_vals:\n",
    "            bar_heights.append((x_counts == x).sum())\n",
    "        return bar_heights\n",
    "\n",
    "    \n",
    "    x = np.arange(-3, 4)  # X axis values\n",
    "    \n",
    "    y1_train, y1_test = get_bar_heights(results1, x)\n",
    "    y2_train, y2_test = get_bar_heights(results2, x)\n",
    "    \n",
    "    fig, ax = plt.subplots(ncols=2,figsize=(15, 5))\n",
    "    ax1 = ax[0]\n",
    "    ax2 = ax[1]\n",
    "    \n",
    "    width = 1 / 3  # Bar widths\n",
    "    \n",
    "    rects1 = ax1.bar(x - width/2, y1_train, width, label='AdaBoost')\n",
    "    rects2 = ax1.bar(x + width/2, y2_train, width, label='Gradient boost')\n",
    "    \n",
    "    rects3 = ax2.bar(x - width/2, y1_test, width, label='AdaBoost')\n",
    "    rects4 = ax2.bar(x + width/2, y2_test, width, label='Gradient boost')\n",
    "    \n",
    "    # Add some text for labels, title and custom x-axis tick labels, etc.\n",
    "    fig.suptitle('Histograms of Raw Errors', fontsize=16)\n",
    "    ax1.set_xlabel('Raw Error')\n",
    "    ax1.set_ylabel('Occurrences')\n",
    "    ax1.set_title('Training Raw Errors')\n",
    "    ax1.legend()\n",
    "    ax2.set_xlabel('Raw Error')\n",
    "    ax2.set_ylabel('Occurrences')\n",
    "    ax2.set_title('Testing Raw Errors')\n",
    "    ax2.legend()\n",
    "    \n"
   ]
  },
  {
   "cell_type": "code",
   "execution_count": 13,
   "metadata": {},
   "outputs": [
    {
     "data": {
      "image/png": "[encoded data removed]",
      "text/plain": [
       "<Figure size 1080x360 with 2 Axes>"
      ]
     },
     "metadata": {
      "needs_background": "light"
     },
     "output_type": "display_data"
    }
   ],
   "source": [
    "raw_error_hist(regr_1_results, regr_2_results)"
   ]
  },
  {
   "cell_type": "markdown",
   "metadata": {},
   "source": [
    "# 4 Conclusion and discussion <a name=\"4\">\n",
    "    \n",
    "From the line charts of MSE plotted against boost iterations we can see there is a reduction in mse over multiple boosting iterations for both AdaBoost (AB) and Gradient Boosting (GB) regressors. It is also clear that AB performs significantly better than GB, however it is worth noting AB is significantly slower and it is possible to run over 100 iterations of GB in the time it takes AB with SVR to do only 6 iterations, in which case GB will outperform AB.\n",
    "    \n",
    "The histograms of raw errors shows again that AB performs better than GB (there is a higher proportion of results with a raw error of zero). We can also observe that AB is relatively balanced in its predictions (there is no bias for over or under estimating wine quality), while GB has a slight positive bias in its wine quality predictions, possibly due to the slight underlying skew of the wine quality values."
   ]
  }
 ],
 "metadata": {
  "kernelspec": {
   "display_name": "Python 3",
   "language": "python",
   "name": "python3"
  },
  "language_info": {
   "codemirror_mode": {
    "name": "ipython",
    "version": 3
   },
   "file_extension": ".py",
   "mimetype": "text/x-python",
   "name": "python",
   "nbconvert_exporter": "python",
   "pygments_lexer": "ipython3",
   "version": "3.8.2"
  }
 },
 "nbformat": 4,
 "nbformat_minor": 4
}
